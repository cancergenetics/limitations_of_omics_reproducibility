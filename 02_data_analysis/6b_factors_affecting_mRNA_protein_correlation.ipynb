{
 "cells": [
  {
   "cell_type": "markdown",
   "metadata": {},
   "source": [
    "## Identify the potential factors affecting the mRNA-protein correlation"
   ]
  },
  {
   "cell_type": "markdown",
   "metadata": {},
   "source": [
    "**Input:** \n",
    "<ul>\n",
    "    <li> All 13 studies' mRNa-protein correlation</li>\n",
    "    <li> Aggregated protein reproducibility</li>\n",
    "    <li> Protein properties - abundance, unique peptides, half-lives.</ul>\n",
    "</ul>          "
   ]
  },
  {
   "cell_type": "markdown",
   "metadata": {},
   "source": [
    "#### Import Packages"
   ]
  },
  {
   "cell_type": "code",
   "execution_count": 1,
   "metadata": {},
   "outputs": [],
   "source": [
    "import os\n",
    "import numpy as np\n",
    "import pandas as pd\n",
    "import math \n",
    "import matplotlib as mpl\n",
    "from matplotlib import pyplot as plt\n",
    "\n",
    "import common_utils\n",
    "import graphing_utils as gu\n",
    "import customized_plots\n",
    "%matplotlib inline\n",
    "plt.style.use(['seaborn-white'])"
   ]
  },
  {
   "cell_type": "code",
   "execution_count": 2,
   "metadata": {},
   "outputs": [],
   "source": [
    "get_local_data_path = lambda folders, fname: os.path.normpath('../local_data/'+'/'+'/'.join(folders) +'/'+ fname)\n",
    "\n",
    "file_mRNA_protein_correlation = get_local_data_path(['results'], 'TableS1.xlsx')\n",
    "file_proteomic_replicate_ranks = get_local_data_path(['results'], 'TableS2.xlsx')\n",
    "file_protein_properties = get_local_data_path(['processed'], 'protein_properties.csv')"
   ]
  },
  {
   "cell_type": "markdown",
   "metadata": {},
   "source": [
    "#### Load data"
   ]
  },
  {
   "cell_type": "code",
   "execution_count": 3,
   "metadata": {},
   "outputs": [
    {
     "data": {
      "text/html": [
       "<div>\n",
       "<style scoped>\n",
       "    .dataframe tbody tr th:only-of-type {\n",
       "        vertical-align: middle;\n",
       "    }\n",
       "\n",
       "    .dataframe tbody tr th {\n",
       "        vertical-align: top;\n",
       "    }\n",
       "\n",
       "    .dataframe thead th {\n",
       "        text-align: right;\n",
       "    }\n",
       "</style>\n",
       "<table border=\"1\" class=\"dataframe\">\n",
       "  <thead>\n",
       "    <tr style=\"text-align: right;\">\n",
       "      <th></th>\n",
       "      <th>Ovarian</th>\n",
       "      <th>Colon</th>\n",
       "      <th>CCLE</th>\n",
       "      <th>Aggregated</th>\n",
       "    </tr>\n",
       "  </thead>\n",
       "  <tbody>\n",
       "    <tr>\n",
       "      <th>A1BG</th>\n",
       "      <td>0.772775</td>\n",
       "      <td>0.45424</td>\n",
       "      <td>NaN</td>\n",
       "      <td>0.575671</td>\n",
       "    </tr>\n",
       "    <tr>\n",
       "      <th>A2M</th>\n",
       "      <td>0.883270</td>\n",
       "      <td>0.39603</td>\n",
       "      <td>0.22406</td>\n",
       "      <td>0.501120</td>\n",
       "    </tr>\n",
       "  </tbody>\n",
       "</table>\n",
       "</div>"
      ],
      "text/plain": [
       "       Ovarian    Colon     CCLE  Aggregated\n",
       "A1BG  0.772775  0.45424      NaN    0.575671\n",
       "A2M   0.883270  0.39603  0.22406    0.501120"
      ]
     },
     "execution_count": 3,
     "metadata": {},
     "output_type": "execute_result"
    }
   ],
   "source": [
    "proteomic_replicate_rank = pd.read_excel(file_proteomic_replicate_ranks, sheet_name='B. Protein reproducibility rank', \n",
    "                                         index_col=0)\n",
    "proteomic_replicate_rank.rename(columns = lambda x: x.replace(' Reproducibility Rank', ''), inplace=True)\n",
    "proteomic_replicate_rank[:2]"
   ]
  },
  {
   "cell_type": "code",
   "execution_count": 4,
   "metadata": {},
   "outputs": [],
   "source": [
    "aggregated_ranks = proteomic_replicate_rank['Aggregated'].copy(deep=True).dropna()"
   ]
  },
  {
   "cell_type": "code",
   "execution_count": 5,
   "metadata": {},
   "outputs": [
    {
     "data": {
      "text/html": [
       "<div>\n",
       "<style scoped>\n",
       "    .dataframe tbody tr th:only-of-type {\n",
       "        vertical-align: middle;\n",
       "    }\n",
       "\n",
       "    .dataframe tbody tr th {\n",
       "        vertical-align: top;\n",
       "    }\n",
       "\n",
       "    .dataframe thead th {\n",
       "        text-align: right;\n",
       "    }\n",
       "</style>\n",
       "<table border=\"1\" class=\"dataframe\">\n",
       "  <thead>\n",
       "    <tr style=\"text-align: right;\">\n",
       "      <th></th>\n",
       "      <th>CRC (2014)</th>\n",
       "      <th>BrCa (2016)</th>\n",
       "      <th>Ovarian</th>\n",
       "      <th>Colon</th>\n",
       "      <th>ccRCC</th>\n",
       "      <th>EC</th>\n",
       "      <th>LUAD</th>\n",
       "      <th>BrCa (2020)</th>\n",
       "      <th>HNSCC</th>\n",
       "      <th>GBM</th>\n",
       "      <th>NCI60</th>\n",
       "      <th>CCLE</th>\n",
       "      <th>GTEx</th>\n",
       "    </tr>\n",
       "    <tr>\n",
       "      <th>Gene symbol</th>\n",
       "      <th></th>\n",
       "      <th></th>\n",
       "      <th></th>\n",
       "      <th></th>\n",
       "      <th></th>\n",
       "      <th></th>\n",
       "      <th></th>\n",
       "      <th></th>\n",
       "      <th></th>\n",
       "      <th></th>\n",
       "      <th></th>\n",
       "      <th></th>\n",
       "      <th></th>\n",
       "    </tr>\n",
       "  </thead>\n",
       "  <tbody>\n",
       "    <tr>\n",
       "      <th>A1BG</th>\n",
       "      <td>0.123133</td>\n",
       "      <td>-0.093805</td>\n",
       "      <td>-0.078889</td>\n",
       "      <td>NaN</td>\n",
       "      <td>0.035573</td>\n",
       "      <td>0.324974</td>\n",
       "      <td>-0.119663</td>\n",
       "      <td>0.077242</td>\n",
       "      <td>0.065872</td>\n",
       "      <td>-0.192863</td>\n",
       "      <td>NaN</td>\n",
       "      <td>NaN</td>\n",
       "      <td>0.154523</td>\n",
       "    </tr>\n",
       "    <tr>\n",
       "      <th>A1CF</th>\n",
       "      <td>NaN</td>\n",
       "      <td>NaN</td>\n",
       "      <td>NaN</td>\n",
       "      <td>0.673548</td>\n",
       "      <td>0.908613</td>\n",
       "      <td>NaN</td>\n",
       "      <td>NaN</td>\n",
       "      <td>NaN</td>\n",
       "      <td>NaN</td>\n",
       "      <td>NaN</td>\n",
       "      <td>NaN</td>\n",
       "      <td>NaN</td>\n",
       "      <td>0.188605</td>\n",
       "    </tr>\n",
       "  </tbody>\n",
       "</table>\n",
       "</div>"
      ],
      "text/plain": [
       "             CRC (2014)  BrCa (2016)   Ovarian     Colon     ccRCC        EC  \\\n",
       "Gene symbol                                                                    \n",
       "A1BG           0.123133    -0.093805 -0.078889       NaN  0.035573  0.324974   \n",
       "A1CF                NaN          NaN       NaN  0.673548  0.908613       NaN   \n",
       "\n",
       "                 LUAD  BrCa (2020)     HNSCC       GBM  NCI60  CCLE      GTEx  \n",
       "Gene symbol                                                                    \n",
       "A1BG        -0.119663     0.077242  0.065872 -0.192863    NaN   NaN  0.154523  \n",
       "A1CF              NaN          NaN       NaN       NaN    NaN   NaN  0.188605  "
      ]
     },
     "execution_count": 5,
     "metadata": {},
     "output_type": "execute_result"
    }
   ],
   "source": [
    "mRNA_protein_correlation = pd.read_excel(file_mRNA_protein_correlation, \n",
    "                                         sheet_name='A. mRNA-protein correlation', index_col=0)\n",
    "mRNA_protein_correlation[:2]"
   ]
  },
  {
   "cell_type": "code",
   "execution_count": 6,
   "metadata": {},
   "outputs": [],
   "source": [
    "crc14 = mRNA_protein_correlation['CRC (2014)'].copy(deep=True).dropna()\n",
    "brca16 = mRNA_protein_correlation['BrCa (2016)'].copy(deep=True).dropna()\n",
    "ovca = mRNA_protein_correlation['Ovarian'].copy(deep=True).dropna()\n",
    "crc19 = mRNA_protein_correlation['Colon'].copy(deep=True).dropna()\n",
    "ccrcc = mRNA_protein_correlation['ccRCC'].copy(deep=True).dropna()\n",
    "ec = mRNA_protein_correlation['EC'].copy(deep=True).dropna()\n",
    "luad = mRNA_protein_correlation['LUAD'].copy(deep=True).dropna()\n",
    "brca20 = mRNA_protein_correlation['BrCa (2020)'].copy(deep=True).dropna()\n",
    "hnscc = mRNA_protein_correlation['HNSCC'].copy(deep=True).dropna()\n",
    "gbm = mRNA_protein_correlation['GBM'].copy(deep=True).dropna()\n",
    "ccle = mRNA_protein_correlation['CCLE'].copy(deep=True).dropna()\n",
    "nci60 = mRNA_protein_correlation['NCI60'].copy(deep=True).dropna()\n",
    "gtex = mRNA_protein_correlation['GTEx'].copy(deep=True).dropna()"
   ]
  },
  {
   "cell_type": "code",
   "execution_count": 7,
   "metadata": {},
   "outputs": [
    {
     "data": {
      "text/html": [
       "<div>\n",
       "<style scoped>\n",
       "    .dataframe tbody tr th:only-of-type {\n",
       "        vertical-align: middle;\n",
       "    }\n",
       "\n",
       "    .dataframe tbody tr th {\n",
       "        vertical-align: top;\n",
       "    }\n",
       "\n",
       "    .dataframe thead th {\n",
       "        text-align: right;\n",
       "    }\n",
       "</style>\n",
       "<table border=\"1\" class=\"dataframe\">\n",
       "  <thead>\n",
       "    <tr style=\"text-align: right;\">\n",
       "      <th></th>\n",
       "      <th>GTEx_Mean_Abundance</th>\n",
       "      <th>GTEx_Abundance_Variance</th>\n",
       "      <th>GTEx_Unique_Peptides</th>\n",
       "      <th>Protein sequence length</th>\n",
       "      <th>Molecular weight [kDa]</th>\n",
       "      <th>T1/2 [h]</th>\n",
       "    </tr>\n",
       "  </thead>\n",
       "  <tbody>\n",
       "    <tr>\n",
       "      <th>A1BG</th>\n",
       "      <td>1357.680477</td>\n",
       "      <td>2.402719e+06</td>\n",
       "      <td>22.0</td>\n",
       "      <td>NaN</td>\n",
       "      <td>NaN</td>\n",
       "      <td>NaN</td>\n",
       "    </tr>\n",
       "    <tr>\n",
       "      <th>A2M</th>\n",
       "      <td>10540.179562</td>\n",
       "      <td>1.272133e+08</td>\n",
       "      <td>77.0</td>\n",
       "      <td>NaN</td>\n",
       "      <td>NaN</td>\n",
       "      <td>NaN</td>\n",
       "    </tr>\n",
       "  </tbody>\n",
       "</table>\n",
       "</div>"
      ],
      "text/plain": [
       "      GTEx_Mean_Abundance  GTEx_Abundance_Variance  GTEx_Unique_Peptides  \\\n",
       "A1BG          1357.680477             2.402719e+06                  22.0   \n",
       "A2M          10540.179562             1.272133e+08                  77.0   \n",
       "\n",
       "      Protein sequence length  Molecular weight [kDa]  T1/2 [h]  \n",
       "A1BG                      NaN                     NaN       NaN  \n",
       "A2M                       NaN                     NaN       NaN  "
      ]
     },
     "execution_count": 7,
     "metadata": {},
     "output_type": "execute_result"
    }
   ],
   "source": [
    "protein_properties = pd.read_csv(file_protein_properties, index_col=0)\n",
    "protein_properties[:2]"
   ]
  },
  {
   "cell_type": "code",
   "execution_count": 8,
   "metadata": {},
   "outputs": [],
   "source": [
    "protein_abundance = protein_properties['GTEx_Mean_Abundance'].copy(deep=True).dropna()\n",
    "protein_unique_peptides = protein_properties['GTEx_Unique_Peptides'].copy(deep=True).dropna()\n",
    "protein_variance = protein_properties['GTEx_Abundance_Variance'].copy(deep=True).dropna()\n",
    "protein_half_lives = protein_properties['T1/2 [h]'].copy(deep=True).dropna()"
   ]
  },
  {
   "cell_type": "code",
   "execution_count": 9,
   "metadata": {},
   "outputs": [
    {
     "name": "stdout",
     "output_type": "stream",
     "text": [
      "Protien half-life Range:  0.2331348885205769  -  inf\n",
      "Protien mean abundance Range:  76.17350896130952  -  387741.52997729526\n",
      "Protien variance Range:  4075.3577700525416  -  1537082143133.7432\n",
      "Protien unique peptides Range:  1.0  -  2558.0\n",
      "Thus, log-transformation is applied to all the above factors!\n"
     ]
    }
   ],
   "source": [
    "print(\"Protien half-life Range: \", protein_half_lives.min(), \" - \", protein_half_lives.max())\n",
    "print(\"Protien mean abundance Range: \", protein_abundance.min(), \" - \", protein_abundance.max())\n",
    "print(\"Protien variance Range: \", protein_variance.min(), \" - \", protein_variance.max())\n",
    "print(\"Protien unique peptides Range: \", protein_unique_peptides.min(), \" - \", protein_unique_peptides.max())\n",
    "print(\"Thus, log-transformation is applied to all the above factors!\")\n",
    "protein_half_lives = np.log10(protein_half_lives + 1)\n",
    "protein_abundance = np.log10(protein_abundance + 1)\n",
    "protein_variance = np.log10(protein_variance + 1)\n",
    "protein_unique_peptides = np.log10(protein_unique_peptides + 1)"
   ]
  },
  {
   "cell_type": "code",
   "execution_count": 10,
   "metadata": {},
   "outputs": [],
   "source": [
    "#converting half-lives to binary - 'Long' and 'Short' \n",
    "protein_half_lives_binary = pd.Series(['Long' if val > protein_half_lives.median() \\\n",
    "                                       else 'Short' for val in protein_half_lives], \n",
    "                                      index=protein_half_lives.index)"
   ]
  },
  {
   "cell_type": "markdown",
   "metadata": {},
   "source": [
    "**Performing Mann-Whitney test to ensure the Aggregated Protein Reproduciility Rank are protein half-lives 'Long' and 'short' are from different distribution**"
   ]
  },
  {
   "cell_type": "markdown",
   "metadata": {},
   "source": [
    "#### Regress to understand the amount of variation in aggregated ranks explained by each of the factor"
   ]
  },
  {
   "cell_type": "code",
   "execution_count": 11,
   "metadata": {},
   "outputs": [],
   "source": [
    "import statsmodels.api as sm\n",
    "def ols_fit(x, y, match_subsets=True):\n",
    "    x_subset, y_subset = common_utils.get_matched_index(x, y) \n",
    "    est = sm.OLS(y_subset, sm.add_constant(x_subset)).fit()\n",
    "    return est"
   ]
  },
  {
   "cell_type": "code",
   "execution_count": 12,
   "metadata": {},
   "outputs": [
    {
     "name": "stdout",
     "output_type": "stream",
     "text": [
      "Dimensions:  (3441, 6)\n"
     ]
    },
    {
     "data": {
      "text/html": [
       "<div>\n",
       "<style scoped>\n",
       "    .dataframe tbody tr th:only-of-type {\n",
       "        vertical-align: middle;\n",
       "    }\n",
       "\n",
       "    .dataframe tbody tr th {\n",
       "        vertical-align: top;\n",
       "    }\n",
       "\n",
       "    .dataframe thead th {\n",
       "        text-align: right;\n",
       "    }\n",
       "</style>\n",
       "<table border=\"1\" class=\"dataframe\">\n",
       "  <thead>\n",
       "    <tr style=\"text-align: right;\">\n",
       "      <th></th>\n",
       "      <th>GTEx_Mean_Abundance</th>\n",
       "      <th>GTEx_Abundance_Variance</th>\n",
       "      <th>Long</th>\n",
       "      <th>Short</th>\n",
       "      <th>GTEx_Unique_Peptides</th>\n",
       "      <th>Protein_Reproducibility</th>\n",
       "    </tr>\n",
       "  </thead>\n",
       "  <tbody>\n",
       "    <tr>\n",
       "      <th>AACS</th>\n",
       "      <td>2.494105</td>\n",
       "      <td>5.416879</td>\n",
       "      <td>1</td>\n",
       "      <td>0</td>\n",
       "      <td>1.230449</td>\n",
       "      <td>0.629721</td>\n",
       "    </tr>\n",
       "    <tr>\n",
       "      <th>AAK1</th>\n",
       "      <td>2.954609</td>\n",
       "      <td>6.005358</td>\n",
       "      <td>1</td>\n",
       "      <td>0</td>\n",
       "      <td>1.431364</td>\n",
       "      <td>0.412224</td>\n",
       "    </tr>\n",
       "  </tbody>\n",
       "</table>\n",
       "</div>"
      ],
      "text/plain": [
       "      GTEx_Mean_Abundance  GTEx_Abundance_Variance  Long  Short  \\\n",
       "AACS             2.494105                 5.416879     1      0   \n",
       "AAK1             2.954609                 6.005358     1      0   \n",
       "\n",
       "      GTEx_Unique_Peptides  Protein_Reproducibility  \n",
       "AACS              1.230449                 0.629721  \n",
       "AAK1              1.431364                 0.412224  "
      ]
     },
     "execution_count": 12,
     "metadata": {},
     "output_type": "execute_result"
    }
   ],
   "source": [
    "combined_factors = pd.concat([protein_abundance, protein_variance, pd.get_dummies(protein_half_lives_binary), \n",
    "                              protein_unique_peptides, aggregated_ranks.rename('Protein_Reproducibility')], \n",
    "                             axis=1, join='inner')\n",
    "print('Dimensions: ', combined_factors.shape)\n",
    "combined_factors[:2]"
   ]
  },
  {
   "cell_type": "code",
   "execution_count": 13,
   "metadata": {},
   "outputs": [],
   "source": [
    "all_mRNA_protein_correlation = [crc14, brca16, ovca, crc19, ccrcc, ec, luad, brca20, hnscc, gbm, ccle, nci60, gtex]"
   ]
  },
  {
   "cell_type": "code",
   "execution_count": 14,
   "metadata": {},
   "outputs": [],
   "source": [
    "rsquared_other_factors = {} ; rsquared_protein_reproducibility = {};\n",
    "\n",
    "for study in all_mRNA_protein_correlation:\n",
    "    rsquared_other_factors[study.name] = round(ols_fit(x=combined_factors.drop('Protein_Reproducibility', axis=1), \n",
    "                                                   y=study).rsquared_adj*100, 2)\n",
    "    rsquared_protein_reproducibility[study.name] = round(ols_fit(x=combined_factors[['Protein_Reproducibility']], \n",
    "                                                   y=study).rsquared_adj*100, 2)"
   ]
  },
  {
   "cell_type": "code",
   "execution_count": 15,
   "metadata": {},
   "outputs": [
    {
     "data": {
      "text/html": [
       "<table border=\"1\" class=\"dataframe\">\n",
       "  <thead>\n",
       "    <tr style=\"text-align: right;\">\n",
       "      <th>Factor</th>\n",
       "      <th>Data</th>\n",
       "      <th>Aggregated protein\n",
       "reproducibility</th>\n",
       "      <th>Other factors</th>\n",
       "      <th>Proteins Count</th>\n",
       "    </tr>\n",
       "  </thead>\n",
       "  <tbody>\n",
       "    <tr>\n",
       "      <th>0</th>\n",
       "      <td>BrCa (2016)</td>\n",
       "      <td>10.49</td>\n",
       "      <td>5.45</td>\n",
       "      <td>2954</td>\n",
       "    </tr>\n",
       "    <tr>\n",
       "      <th>1</th>\n",
       "      <td>BrCa (2020)</td>\n",
       "      <td>15.63</td>\n",
       "      <td>10.26</td>\n",
       "      <td>3197</td>\n",
       "    </tr>\n",
       "    <tr>\n",
       "      <th>2</th>\n",
       "      <td>CCLE</td>\n",
       "      <td>26.10</td>\n",
       "      <td>12.95</td>\n",
       "      <td>3279</td>\n",
       "    </tr>\n",
       "    <tr>\n",
       "      <th>3</th>\n",
       "      <td>CRC (2014)</td>\n",
       "      <td>22.64</td>\n",
       "      <td>6.42</td>\n",
       "      <td>2372</td>\n",
       "    </tr>\n",
       "    <tr>\n",
       "      <th>4</th>\n",
       "      <td>Colon</td>\n",
       "      <td>17.53</td>\n",
       "      <td>3.50</td>\n",
       "      <td>3176</td>\n",
       "    </tr>\n",
       "    <tr>\n",
       "      <th>5</th>\n",
       "      <td>EC</td>\n",
       "      <td>20.72</td>\n",
       "      <td>13.70</td>\n",
       "      <td>3344</td>\n",
       "    </tr>\n",
       "    <tr>\n",
       "      <th>6</th>\n",
       "      <td>GBM</td>\n",
       "      <td>14.78</td>\n",
       "      <td>8.99</td>\n",
       "      <td>3343</td>\n",
       "    </tr>\n",
       "    <tr>\n",
       "      <th>7</th>\n",
       "      <td>GTEx</td>\n",
       "      <td>15.55</td>\n",
       "      <td>17.89</td>\n",
       "      <td>3418</td>\n",
       "    </tr>\n",
       "    <tr>\n",
       "      <th>8</th>\n",
       "      <td>HNSCC</td>\n",
       "      <td>15.02</td>\n",
       "      <td>11.34</td>\n",
       "      <td>3341</td>\n",
       "    </tr>\n",
       "    <tr>\n",
       "      <th>9</th>\n",
       "      <td>LUAD</td>\n",
       "      <td>15.05</td>\n",
       "      <td>8.41</td>\n",
       "      <td>3085</td>\n",
       "    </tr>\n",
       "    <tr>\n",
       "      <th>10</th>\n",
       "      <td>NCI60</td>\n",
       "      <td>13.53</td>\n",
       "      <td>6.25</td>\n",
       "      <td>2256</td>\n",
       "    </tr>\n",
       "    <tr>\n",
       "      <th>11</th>\n",
       "      <td>Ovarian</td>\n",
       "      <td>23.62</td>\n",
       "      <td>7.04</td>\n",
       "      <td>3099</td>\n",
       "    </tr>\n",
       "    <tr>\n",
       "      <th>12</th>\n",
       "      <td>ccRCC</td>\n",
       "      <td>11.74</td>\n",
       "      <td>6.44</td>\n",
       "      <td>3190</td>\n",
       "    </tr>\n",
       "  </tbody>\n",
       "</table>"
      ],
      "text/plain": [
       "<IPython.core.display.HTML object>"
      ]
     },
     "metadata": {},
     "output_type": "display_data"
    }
   ],
   "source": [
    "proteins_count = {study.name: len(study[study.index.isin(combined_factors.index)]) for study in all_mRNA_protein_correlation}\n",
    "rsquared_combined_factors = common_utils.dataframe_from_dict(['Other factors', 'Aggregated protein\\nreproducibility', 'Proteins Count'], \n",
    "                                                rsquared_other_factors,   rsquared_protein_reproducibility, proteins_count,\n",
    "                                                repeat_factor=len(rsquared_other_factors))"
   ]
  },
  {
   "cell_type": "code",
   "execution_count": 16,
   "metadata": {},
   "outputs": [
    {
     "data": {
      "image/png": "[encoded data removed]",
      "text/plain": [
       "<Figure size 360x468 with 1 Axes>"
      ]
     },
     "metadata": {},
     "output_type": "display_data"
    }
   ],
   "source": [
    "args = gu.additional_plot_parameters(xlab='R-squared (%)', ylab=None, yaxis_grid=False, xaxis_grid=True, \n",
    "                                     palette = [gu.get_color(name) for name in ['orange', 'green']],\n",
    "                                     anchor_legend_at=(1.4, 1))\n",
    "\n",
    "\n",
    "get_order = lambda df: df[df['Factor']=='Aggregated protein\\nreproducibility'].sort_values('R-squared').Data.values\n",
    "with plt.rc_context({'axes.linewidth': 0.8}):\n",
    "    figure, ax = plt.subplots(1, 1, figsize=(5,6.5))\n",
    "    customized_plots.draw_dotplot(ax=ax, x='R-squared', y='Data', data=rsquared_combined_factors, hue='Factor', \n",
    "                                  order=get_order(rsquared_combined_factors), args=args, jitter=0)\n",
    "    ax.spines['left'].set_visible(True)\n",
    "#     figure.savefig('../figures/S6.svg', bbox_inches='tight', dpi=300)"
   ]
  },
  {
   "cell_type": "code",
   "execution_count": 17,
   "metadata": {},
   "outputs": [],
   "source": [
    "from scipy import stats\n",
    "chisqprob = lambda chisq, df: stats.chi2.sf(chisq, df)"
   ]
  },
  {
   "cell_type": "code",
   "execution_count": 18,
   "metadata": {},
   "outputs": [],
   "source": [
    "def lrtest(llmin, llmax, df=3):\n",
    "    lr = 2 * (llmax - llmin)\n",
    "    p = chisqprob(lr, df) # llmax has 3 dof more than llmin as protein half-lives as has dummy variables - Long and Short\n",
    "    return lr, p"
   ]
  },
  {
   "cell_type": "code",
   "execution_count": 19,
   "metadata": {},
   "outputs": [
    {
     "name": "stdout",
     "output_type": "stream",
     "text": [
      "CRC (2014)\n",
      "Other Factors v/s Aggregated Protein Reproducibility model: LR test statistic = 448.37,  p value = 7.3449e-97\n",
      "BrCa (2016)\n",
      "Other Factors v/s Aggregated Protein Reproducibility model: LR test statistic = 158.65,  p value = 3.5807e-34\n",
      "Ovarian\n",
      "Other Factors v/s Aggregated Protein Reproducibility model: LR test statistic = 605.88,  p value = 5.3462e-131\n",
      "Colon\n",
      "Other Factors v/s Aggregated Protein Reproducibility model: LR test statistic = 495.80,  p value = 3.8845e-107\n",
      "ccRCC\n",
      "Other Factors v/s Aggregated Protein Reproducibility model: LR test statistic = 182.76,  p value = 2.2308e-39\n",
      "EC\n",
      "Other Factors v/s Aggregated Protein Reproducibility model: LR test statistic = 280.56,  p value = 1.6045e-60\n",
      "LUAD\n",
      "Other Factors v/s Aggregated Protein Reproducibility model: LR test statistic = 229.12,  p value = 2.1458e-49\n",
      "BrCa (2020)\n",
      "Other Factors v/s Aggregated Protein Reproducibility model: LR test statistic = 193.99,  p value = 8.3989e-42\n",
      "HNSCC\n",
      "Other Factors v/s Aggregated Protein Reproducibility model: LR test statistic = 138.54,  p value = 7.8113e-30\n",
      "GBM\n",
      "Other Factors v/s Aggregated Protein Reproducibility model: LR test statistic = 216.76,  p value = 1.0082e-46\n",
      "CCLE\n",
      "Other Factors v/s Aggregated Protein Reproducibility model: LR test statistic = 533.91,  p value = 2.1365e-115\n",
      "NCI60\n",
      "Other Factors v/s Aggregated Protein Reproducibility model: LR test statistic = 179.24,  p value = 1.2877e-38\n",
      "GTEx\n",
      "Aggregated Protein Reproducibility v/s Other Factors model: LR test statistic = 99.28,  p value = 2.221e-21\n"
     ]
    }
   ],
   "source": [
    "for study in all_mRNA_protein_correlation: \n",
    "    print(study.name)\n",
    "    llf_other_factors = ols_fit(x=combined_factors.drop('Protein_Reproducibility',axis=1), y=study).llf    \n",
    "    llf_aggregated_ranks = ols_fit(x=combined_factors['Protein_Reproducibility'], y=study).llf\n",
    "    if(study.name == 'GTEx'):\n",
    "        lr, p = lrtest(llf_aggregated_ranks, llf_other_factors)\n",
    "        print('Aggregated Protein Reproducibility v/s Other Factors model: LR test statistic = {:.2f},  p value = {:.5g}'.format(lr, p))\n",
    "    else:\n",
    "        lr, p = lrtest(llf_other_factors, llf_aggregated_ranks)\n",
    "        print('Other Factors v/s Aggregated Protein Reproducibility model: LR test statistic = {:.2f},  p value = {:.5g}'.format(lr, p))"
   ]
  },
  {
   "cell_type": "markdown",
   "metadata": {},
   "source": [
    "<div class=\"alert alert-block alert-success\">\n",
    "    Based on the above results where p < 0.001 in most cases (except CCLE Abundance v/s combined model), we understand that the combined model is better than the individual model for all the studies considered. However, cases where the LR test statistic is not very large (depending on the predictability of the factors - for e.g., aggreated rank abundance v/s combined model), we can say that  the individual factor model is almost as good as the combined model despite a p < 0.001 </div>"
   ]
  }
 ],
 "metadata": {
  "kernelspec": {
   "display_name": "Python 3 (ipykernel)",
   "language": "python",
   "name": "python3"
  },
  "language_info": {
   "codemirror_mode": {
    "name": "ipython",
    "version": 3
   },
   "file_extension": ".py",
   "mimetype": "text/x-python",
   "name": "python",
   "nbconvert_exporter": "python",
   "pygments_lexer": "ipython3",
   "version": "3.8.10"
  }
 },
 "nbformat": 4,
 "nbformat_minor": 4
}
