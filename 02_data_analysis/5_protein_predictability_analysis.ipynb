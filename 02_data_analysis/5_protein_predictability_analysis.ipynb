{
 "cells": [
  {
   "cell_type": "markdown",
   "metadata": {},
   "source": [
    "## Assessing the predictability of proteins based on protein-protein reproducibility"
   ]
  },
  {
   "cell_type": "markdown",
   "metadata": {},
   "source": [
    "**Input:** \n",
    "<ul>\n",
    "    <li> Aggregated protein reproducibility rank</li>\n",
    "    <li> Prediction scores of the best performing model in NCI CPTAC DREAM Proteomic SubChallenge</ul>\n",
    "</ul>          "
   ]
  },
  {
   "cell_type": "markdown",
   "metadata": {},
   "source": [
    "#### Import Packages"
   ]
  },
  {
   "cell_type": "code",
   "execution_count": 1,
   "metadata": {},
   "outputs": [],
   "source": [
    "import os\n",
    "import numpy as np\n",
    "import pandas as pd\n",
    "\n",
    "import matplotlib as mpl\n",
    "from matplotlib import pyplot as plt\n",
    "\n",
    "import common_utils\n",
    "import customized_plots\n",
    "import graphing_utils as gu\n",
    "%matplotlib inline\n",
    "plt.style.use(['seaborn-white'])"
   ]
  },
  {
   "cell_type": "code",
   "execution_count": 2,
   "metadata": {},
   "outputs": [],
   "source": [
    "get_data_path = lambda folders, fname: os.path.normpath(os.environ['DATA_PATH']+'/'+'/'.join(folders) +'/'+ fname)\n",
    "get_local_data_path = lambda folders, fname: os.path.normpath('../local_data/'+'/'.join(folders) +'/'+ fname)"
   ]
  },
  {
   "cell_type": "markdown",
   "metadata": {},
   "source": [
    "#### Load data"
   ]
  },
  {
   "cell_type": "code",
   "execution_count": 3,
   "metadata": {},
   "outputs": [],
   "source": [
    "file_proteomic_replicate_correlations = get_local_data_path(['results'], 'TableS2.xlsx')\n",
    "file_prediction_scores_breast = get_data_path(['mi_yang_25Sept2020'], 'guan_sc2_breast_cor.txt')\n",
    "file_prediction_scores_ovarian = get_data_path(['mi_yang_25Sept2020'], 'guan_sc2_ovarian_cor.txt')"
   ]
  },
  {
   "cell_type": "code",
   "execution_count": 4,
   "metadata": {},
   "outputs": [
    {
     "data": {
      "text/html": [
       "<div>\n",
       "<style scoped>\n",
       "    .dataframe tbody tr th:only-of-type {\n",
       "        vertical-align: middle;\n",
       "    }\n",
       "\n",
       "    .dataframe tbody tr th {\n",
       "        vertical-align: top;\n",
       "    }\n",
       "\n",
       "    .dataframe thead th {\n",
       "        text-align: right;\n",
       "    }\n",
       "</style>\n",
       "<table border=\"1\" class=\"dataframe\">\n",
       "  <thead>\n",
       "    <tr style=\"text-align: right;\">\n",
       "      <th></th>\n",
       "      <th>Ovarian Reproducibility Rank</th>\n",
       "      <th>Colon Reproducibility Rank</th>\n",
       "      <th>CCLE Reproducibility Rank</th>\n",
       "      <th>Aggregated Reproducibility Rank</th>\n",
       "    </tr>\n",
       "  </thead>\n",
       "  <tbody>\n",
       "    <tr>\n",
       "      <th>A1BG</th>\n",
       "      <td>0.772775</td>\n",
       "      <td>0.45424</td>\n",
       "      <td>NaN</td>\n",
       "      <td>0.575671</td>\n",
       "    </tr>\n",
       "    <tr>\n",
       "      <th>A2M</th>\n",
       "      <td>0.883270</td>\n",
       "      <td>0.39603</td>\n",
       "      <td>0.22406</td>\n",
       "      <td>0.501120</td>\n",
       "    </tr>\n",
       "  </tbody>\n",
       "</table>\n",
       "</div>"
      ],
      "text/plain": [
       "      Ovarian Reproducibility Rank  Colon Reproducibility Rank  \\\n",
       "A1BG                      0.772775                     0.45424   \n",
       "A2M                       0.883270                     0.39603   \n",
       "\n",
       "      CCLE Reproducibility Rank  Aggregated Reproducibility Rank  \n",
       "A1BG                        NaN                         0.575671  \n",
       "A2M                     0.22406                         0.501120  "
      ]
     },
     "execution_count": 4,
     "metadata": {},
     "output_type": "execute_result"
    }
   ],
   "source": [
    "replicate_ranks = pd.read_excel(file_proteomic_replicate_correlations, sheet_name='B. Protein reproducibility rank', index_col=0)\n",
    "replicate_ranks[:2]"
   ]
  },
  {
   "cell_type": "code",
   "execution_count": 5,
   "metadata": {},
   "outputs": [],
   "source": [
    "replicates_correlations_ccle = replicate_ranks['CCLE Reproducibility Rank'].copy(deep=True).dropna()\n",
    "replicates_correlations_ov = replicate_ranks['Ovarian Reproducibility Rank'].copy(deep=True).dropna()\n",
    "replicates_correlations_colon = replicate_ranks['Colon Reproducibility Rank'].copy(deep=True).dropna()\n",
    "aggregated_normalized_ranks = replicate_ranks['Aggregated Reproducibility Rank'].copy(deep=True).dropna()\n",
    "replicate_ranks_subset = replicate_ranks.dropna()"
   ]
  },
  {
   "cell_type": "code",
   "execution_count": 6,
   "metadata": {},
   "outputs": [
    {
     "name": "stdout",
     "output_type": "stream",
     "text": [
      "Dimensions:  (8649,)\n"
     ]
    },
    {
     "data": {
      "text/plain": [
       "A1BG    0.146701\n",
       "A2M     0.322806\n",
       "Name: Breast, dtype: float64"
      ]
     },
     "execution_count": 6,
     "metadata": {},
     "output_type": "execute_result"
    }
   ],
   "source": [
    "prediction_scores_breast = pd.read_csv(file_prediction_scores_breast, sep='\\t', index_col=0, squeeze=True)\n",
    "prediction_scores_breast.name = 'Breast'\n",
    "print(\"Dimensions: \", prediction_scores_breast.shape)\n",
    "prediction_scores_breast[:2]"
   ]
  },
  {
   "cell_type": "code",
   "execution_count": 7,
   "metadata": {},
   "outputs": [
    {
     "name": "stdout",
     "output_type": "stream",
     "text": [
      "Dimensions:  (5220,)\n"
     ]
    },
    {
     "data": {
      "text/plain": [
       "A1BG    0.288660\n",
       "A2M     0.203595\n",
       "Name: Ovarian, dtype: float64"
      ]
     },
     "execution_count": 7,
     "metadata": {},
     "output_type": "execute_result"
    }
   ],
   "source": [
    "prediction_scores_ovarian = pd.read_csv(file_prediction_scores_ovarian, sep='\\t', index_col=0, squeeze=True)\n",
    "print(\"Dimensions: \", prediction_scores_ovarian.shape)\n",
    "prediction_scores_ovarian.name = 'Ovarian'\n",
    "prediction_scores_ovarian[:2]"
   ]
  },
  {
   "cell_type": "code",
   "execution_count": 8,
   "metadata": {},
   "outputs": [],
   "source": [
    "import statsmodels.api as sm\n",
    "def ols_fit(x, y):\n",
    "    x_subset, y_subset = common_utils.get_matched_index(x, y) \n",
    "    est = sm.OLS(y_subset, sm.add_constant(x_subset.astype(float))).fit()\n",
    "    return est"
   ]
  },
  {
   "cell_type": "code",
   "execution_count": 9,
   "metadata": {},
   "outputs": [],
   "source": [
    "rsquared_predictions = {}\n",
    "\n",
    "rsquared_predictions['Breast'] = round(ols_fit(x=aggregated_normalized_ranks, \n",
    "                                               y=prediction_scores_breast).rsquared_adj*100, 2)\n",
    "rsquared_predictions['Ovarian'] = round(ols_fit(x=aggregated_normalized_ranks, \n",
    "                                                y=prediction_scores_ovarian).rsquared_adj*100, 2)"
   ]
  },
  {
   "cell_type": "code",
   "execution_count": 10,
   "metadata": {},
   "outputs": [
    {
     "data": {
      "text/html": [
       "<table border=\"1\" class=\"dataframe\">\n",
       "  <thead>\n",
       "    <tr style=\"text-align: right;\">\n",
       "      <th>Factor</th>\n",
       "      <th>Data</th>\n",
       "      <th>Aggregated Protein\n",
       "Reproducibility Rank</th>\n",
       "      <th>CCLE Protein\n",
       "Reproducibility Rank</th>\n",
       "      <th>Colon Protein\n",
       "Reproducibility Rank</th>\n",
       "      <th>Ovarian Protein\n",
       "Reproducibility Rank</th>\n",
       "      <th>Proteins Count</th>\n",
       "    </tr>\n",
       "  </thead>\n",
       "  <tbody>\n",
       "    <tr>\n",
       "      <th>0</th>\n",
       "      <td>Breast</td>\n",
       "      <td>25.29</td>\n",
       "      <td>13.83</td>\n",
       "      <td>14.97</td>\n",
       "      <td>12.47</td>\n",
       "      <td>2634</td>\n",
       "    </tr>\n",
       "    <tr>\n",
       "      <th>1</th>\n",
       "      <td>Ovarian</td>\n",
       "      <td>26.23</td>\n",
       "      <td>12.20</td>\n",
       "      <td>13.71</td>\n",
       "      <td>17.29</td>\n",
       "      <td>2621</td>\n",
       "    </tr>\n",
       "  </tbody>\n",
       "</table>"
      ],
      "text/plain": [
       "<IPython.core.display.HTML object>"
      ]
     },
     "metadata": {},
     "output_type": "display_data"
    }
   ],
   "source": [
    "rsquared_predictions_breast = {}\n",
    "rsquared_predictions_ovarian = {}\n",
    "for rank in replicate_ranks_subset.columns:\n",
    "    rsquared_predictions_breast[rank] = round(ols_fit(x=replicate_ranks_subset[rank], y=prediction_scores_breast).rsquared_adj*100, 2) \n",
    "    rsquared_predictions_ovarian[rank] = round(ols_fit(x=replicate_ranks_subset[rank], y=prediction_scores_ovarian).rsquared_adj*100, 2) \n",
    "    \n",
    "proteins_count = {study.name: len(study[study.index.isin(replicate_ranks_subset.index)]) for study in [prediction_scores_breast,\n",
    "                                                                                                       prediction_scores_ovarian]}\n",
    "rsquared_prediction_scores = common_utils.dataframe_from_dict(['Breast', 'Ovarian', 'Proteins Count'], \n",
    "                                                    rsquared_predictions_breast, rsquared_predictions_ovarian, \n",
    "                                                    proteins_count, repeat_factor=len(rsquared_predictions_ovarian), \n",
    "                                                              interchange_factor_data=True)"
   ]
  },
  {
   "cell_type": "code",
   "execution_count": 11,
   "metadata": {},
   "outputs": [],
   "source": [
    "palette = [gu.get_color('light-orange')]\n",
    "args = [gu.additional_plot_parameters(xlab=\"Aggregated Protein Reproducibility \\nDeciles\", palette=palette, \n",
    "                                                  ylab=\"Best performer's prediction\\nscore\", \n",
    "                                                  r2=rsquared_predictions['Breast'], title = 'BrCa (2016)'),\n",
    "        gu.additional_plot_parameters(xlab=\"Aggregated Protein Reproducibility \\nDeciles\", palette=palette, \n",
    "                                                  ylab=\"Best performer's prediction\\nscore\", \n",
    "                                                  r2=rsquared_predictions['Ovarian'], title='Ovarian'), \n",
    "        gu.additional_plot_parameters(xlab='R-squared (%)', ylab=None, yaxis_grid=False, xaxis_grid=True,  \n",
    "                                    palette=[gu.get_color(color) for color in ['orange', 'sky-blue', \n",
    "                                                                               'reddish-purple', 'green']], \n",
    "                                    anchor_legend_at=(1.65, 1))]"
   ]
  },
  {
   "cell_type": "code",
   "execution_count": 12,
   "metadata": {
    "scrolled": true
   },
   "outputs": [
    {
     "data": {
      "image/png": "[encoded data removed]",
      "text/plain": [
       "<Figure size 720x504 with 4 Axes>"
      ]
     },
     "metadata": {},
     "output_type": "display_data"
    }
   ],
   "source": [
    "get_order = lambda df: df.groupby(by=['Data']).sum().sort_values('R-squared').index.values\n",
    "hue_order = ['Ovarian Protein\\nReproducibility Rank', 'CCLE Protein\\nReproducibility Rank', \n",
    "             'Colon Protein\\nReproducibility Rank', 'Aggregated Protein\\nReproducibility Rank']\n",
    "\n",
    "with plt.rc_context({'axes.linewidth': 0.8}):\n",
    "    figure, ax = plt.subplots(2, 2, figsize=(10, 7), gridspec_kw={'height_ratios': [1, 0.7]})\n",
    "    customized_plots.draw_boxplot(ax[0,0], aggregated_normalized_ranks, prediction_scores_breast, args[0])\n",
    "    customized_plots.draw_boxplot(ax[0,1], aggregated_normalized_ranks, prediction_scores_ovarian, args[1])\n",
    "    ax[1,0].spines['left'].set_visible(True)\n",
    "    customized_plots.draw_dotplot(ax=ax[1, 0], x='R-squared', y='Data', data=rsquared_prediction_scores, hue='Factor', \n",
    "                                  order=get_order(rsquared_prediction_scores), args=args[2], hue_order=hue_order)\n",
    "    ax[1, 1].axis('off')\n",
    "    plt.subplots_adjust(wspace=0.4, hspace=0.75)\n",
    "#     figure.savefig('../figures/S4.svg', bbox_inches='tight', dpi=300)"
   ]
  },
  {
   "cell_type": "markdown",
   "metadata": {},
   "source": [
    "<div class=\"alert alert-block alert-success\">\n",
    "The predictability of proteins increases with the increase in the deciles of aggregated reproducibility ranks.\n",
    "</div>"
   ]
  }
 ],
 "metadata": {
  "kernelspec": {
   "display_name": "Python 3 (ipykernel)",
   "language": "python",
   "name": "python3"
  },
  "language_info": {
   "codemirror_mode": {
    "name": "ipython",
    "version": 3
   },
   "file_extension": ".py",
   "mimetype": "text/x-python",
   "name": "python",
   "nbconvert_exporter": "python",
   "pygments_lexer": "ipython3",
   "version": "3.8.10"
  }
 },
 "nbformat": 4,
 "nbformat_minor": 4
}
