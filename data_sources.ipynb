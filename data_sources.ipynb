{
 "cells": [
  {
   "cell_type": "markdown",
   "metadata": {},
   "source": [
    "### 1. Colorectal Carcinoma (2014)"
   ]
  },
  {
   "cell_type": "markdown",
   "metadata": {},
   "source": [
    "**_Transcriptomics Data_**\n",
    "\n",
    "- File : tumour_studies/crc/coadread_tcga_pub/data_RNA_Seq_expression_median.txt \n",
    "- Downloaded from https://cbioportal-datahub.s3.amazonaws.com/coadread_tcga_pub.tar.gz     \n",
    "- Source Portal : https://www.cbioportal.org/ "
   ]
  },
  {
   "cell_type": "markdown",
   "metadata": {},
   "source": [
    "**_Proteomics Data_**\n",
    "\n",
    "- File : tumour_studies/crc/zhang_2014/Supplemental_Table.xlsx\n",
    "- Downloaded from <a href=https://static-content.springer.com/esm/art%3A10.1038%2Fnature13438/MediaObjects/41586_2014_BFnature13438_MOESM5_ESM.xlsx>Supplemental_Table.xlsx</a>\n",
    "- Source : https://www.nature.com/articles/nature13438#Sec23 "
   ]
  },
  {
   "cell_type": "markdown",
   "metadata": {},
   "source": [
    "### 2. Breast Cancer (2016)"
   ]
  },
  {
   "cell_type": "markdown",
   "metadata": {},
   "source": [
    "**_Transcriptomics Data_**\n",
    "\n",
    "- File : tumour_studies/brca/brca_tcga_pub2015/data_RNA_Seq_v2_expression_median.txt      \n",
    "- Downloaded from <a href=https://cbioportal-datahub.s3.amazonaws.com/brca_tcga_pub2015.tar.gz>brca_tcga_pub2015.tar.gz</a>\n",
    "- Source Portal : https://www.cbioportal.org/"
   ]
  },
  {
   "cell_type": "markdown",
   "metadata": {},
   "source": [
    "**_Proteomics Data_**\n",
    "\n",
    "- File : tumour_studies/brca/mertins_2016/CPTAC_BC_SupplementaryTable03.xlsx \n",
    "- Downloaded from <a href=https://static-content.springer.com/esm/art%3A10.1038%2Fnature18003/MediaObjects/41586_2016_BFnature18003_MOESM111_ESM.zip>BrCa_2016_Supplemental_Tables.zip</a>\n",
    "- Source : https://www.nature.com/articles/nature18003#Sec9"
   ]
  },
  {
   "cell_type": "markdown",
   "metadata": {},
   "source": [
    "### 3. Ovarian Cancer (2016)"
   ]
  },
  {
   "cell_type": "markdown",
   "metadata": {},
   "source": [
    "**_Transcriptomics Data_**\n",
    "\n",
    "- File : tumour_studies/ovca/firebrowse/OV.medianexp.txt \n",
    "- Downloaded from <a href=http://gdac.broadinstitute.org/runs/stddata__2016_01_28/data/OV/20160128/gdac.broadinstitute.org_OV.mRNA_Preprocess_Median.Level_3.2016012800.0.0.tar.gz>OV.mRNA_Preprocess_Median.Level_3.2016012800.0.0.tar.gz</a>\n",
    "- Source Portal : http://firebrowse.org/"
   ]
  },
  {
   "cell_type": "markdown",
   "metadata": {},
   "source": [
    "**_Proteomics Data_**\n",
    "           \n",
    "NOTE: Proteomic replicate profiles (JHU, PNNL) are available in the same file \n",
    "\n",
    "- File : tumour_studies/ovca/zhang_2016/Table_S2.xlsx\n",
    "- Downloaded from  <a href=https://www.cell.com/cms/10.1016/j.cell.2016.05.069/attachment/15e46617-bec0-42cc-82fb-71f842e8aaac/mmc3.xlsx>Table S2. Comprehensive Protein and Phosphopeptide Data</a>\n",
    "- Source : https://www.cell.com/cell/fulltext/S0092-8674(16)30673-0?_returnURL=https%3A%2F%2Flinkinghub.elsevier.com%2Fretrieve%2Fpii%2FS0092867416306730%3Fshowall%3Dtrue"
   ]
  },
  {
   "cell_type": "markdown",
   "metadata": {},
   "source": [
    "### 4. Colon Adenocarcinoma (2019)\n",
    "\n",
    "- Source Portal : http://linkedomics.org/cptac-colon/"
   ]
  },
  {
   "cell_type": "markdown",
   "metadata": {},
   "source": [
    "**_Transcriptomics Data_**\n",
    "\n",
    "- File : tumour_studies/colon/vasaikar_2019/RNAseq.cct\n",
    "- Downloaded from <a href=http://linkedomics.org/cptac-colon/Human__CPTAC_COAD__UNC__RNAseq__HiSeq_RNA__03_01_2017__BCM__Gene__BCM_RSEM_UpperQuartile_log2.cct.gz>RNAseq (HiSeq, Gene level)</a>\n"
   ]
  },
  {
   "cell_type": "markdown",
   "metadata": {},
   "source": [
    "**_Proteomics Data_**\n",
    "<ol>\n",
    "<li><u>TMT 10-plex Mass spectrometry data:</u>\n",
    "    <ul>\n",
    "        <li>File : tumour_studies/colon/vasaikar_2019/Proteome_TMT.cct</li>\n",
    "        <li>Downloaded from <a href= http://linkedomics.org/cptac-colon/Human__CPTAC_COAD__PNNL__Proteome__TMT__03_01_2017__BCM__Gene__Tumor_Normal_log2FC.cct>Proteome (PNNL, Gene level)</a></ul></li>         \n",
    "               \n",
    "               \n",
    "<li><u>LF Mass spectrometry data:</u> \n",
    "    <ul>\n",
    "        <li>File : tumour_studies/colon/vasaikar_2019/Proteome_LF.cct</li>\n",
    "        <li>Downloaded from <a href=http://linkedomics.org/cptac-colon/Human__CPTAC_COAD__VU__Proteome__QExact__03_01_2017__BCM__Gene__VU_Tumor_LF_UnsharedCounts.cct>Proteome (VU, Gene level, Label-free Unshared Counts)</a></ul></li>\n",
    "        </ol>"
   ]
  },
  {
   "cell_type": "markdown",
   "metadata": {},
   "source": [
    "**NOTE : The other tumour studies [ccRCC, BrCa (2020), EC, LUAD, HNSCC, GBM] used for analysis are downloaded in the code through <a href=https://pypi.org/project/cptac/> CPTAC Python API </a>**"
   ]
  },
  {
   "cell_type": "markdown",
   "metadata": {},
   "source": [
    "### 5. Cancer Cell Lines Encyclopedia (2020)"
   ]
  },
  {
   "cell_type": "markdown",
   "metadata": {},
   "source": [
    "**_Transcriptomics Data_**\n",
    "\n",
    "- File : depmap/20Q4/CCLE_expression.csv\n",
    "- Downloaded from https://ndownloader.figshare.com/files/25494389    \n",
    "     \n",
    "     \n",
    "- Cell Line Mapping File : depmap/20Q4/sample.csv\n",
    "- Downloaded from https://ndownloader.figshare.com/files/25494443\n",
    "\n",
    "- Source Portal : https://depmap.org/portal/download/                     \n",
    "                              \n",
    "For processing transcriptomic replicates:                                          \n",
    "- Cell Line Mapping File : ghandi_2019/Table_S1.xlsx\n",
    "- Downloaded from https://static-content.springer.com/esm/art%3A10.1038%2Fs41586-019-1186-3/MediaObjects/41586_2019_1186_MOESM4_ESM.xlsx\n",
    "- Source : https://www.nature.com/articles/s41586-019-1186-3#Sec60"
   ]
  },
  {
   "cell_type": "markdown",
   "metadata": {},
   "source": [
    "**_Proteomics Data_**\n",
    " - Source Portal : https://gygi.hms.harvard.edu/publications/ccle.html\n",
    " \n",
    "1. <u>Protein expression levels</u>\n",
    "    - File : nusinow_2020/Table_S2.xlsx\n",
    "    - Downloaded from <a href=https://gygi.hms.harvard.edu/data/ccle/Table_S2_Protein_Quant_Normalized.xlsx>Table S2</a>\n",
    "   \n",
    "\n",
    "\n",
    "2. <u>Protein expression levels in biological replicates</u>\n",
    "    - File : nusinow_2020/Table_S3.xlsx\n",
    "    - Downloaded from <a href=https://gygi.hms.harvard.edu/data/ccle/Table_S3_Biological_Replicates_Protein_Quant_Normalized.xlsx>Table S3</a>\n",
    "   "
   ]
  },
  {
   "cell_type": "markdown",
   "metadata": {},
   "source": [
    "### 6. NCI60 cancer cell lines (2019)"
   ]
  },
  {
   "cell_type": "markdown",
   "metadata": {},
   "source": [
    "**_Transcriptomics Data_**\n",
    "\n",
    "- File : guo_2019/Table_S6.xlsx\n",
    "- Downloaded from <a href=https://www.cell.com/cms/10.1016/j.isci.2019.10.059/attachment/816cfb48-4f4d-4ace-843b-e4300bd85b7a/mmc7.xlsx>Table S6</a>"
   ]
  },
  {
   "cell_type": "markdown",
   "metadata": {},
   "source": [
    "**_Proteomics Data_**\n",
    "\n",
    "- File : guo_2019/Table_S1.xlsx\n",
    "- Downloaded from <a href=https://www.cell.com/cms/10.1016/j.isci.2019.10.059/attachment/30dfcf80-68fd-4f82-aef4-e27ab8bacc47/mmc2.xlsx>Table S1</a>"
   ]
  },
  {
   "cell_type": "markdown",
   "metadata": {},
   "source": [
    "### 7. GTEx 32 Healthy Tissues (2020)"
   ]
  },
  {
   "cell_type": "markdown",
   "metadata": {},
   "source": [
    "- Source : https://www.cell.com/cell/fulltext/S0092-8674(20)31078-3?_returnURL=https%3A%2F%2Flinkinghub.elsevier.com%2Fretrieve%2Fpii%2FS0092867420310783%3Fshowall%3Dtruemm"
   ]
  },
  {
   "cell_type": "markdown",
   "metadata": {},
   "source": [
    "**_Transcriptomics Data_**\n",
    "\n",
    "- File : jiang_2020/Table_S4.xlsx\n",
    "- Downloaded from https://www.cell.com/cms/10.1016/j.cell.2020.08.036/attachment/bab7713d-6ee6-4d19-badc-aceb88535518/mmc4.xlsx"
   ]
  },
  {
   "cell_type": "markdown",
   "metadata": {},
   "source": [
    "**_Proteomics Data_**\n",
    "\n",
    "- File : jiang_2020/Table_S3.xlsx\n",
    "- Downloaded from https://www.cell.com/cms/10.1016/j.cell.2020.08.036/attachment/0d79a576-f9b7-4342-81a8-f80c14df0372/mmc3.xlsx"
   ]
  },
  {
   "cell_type": "markdown",
   "metadata": {},
   "source": [
    "**_Experiment Info_**\n",
    "\n",
    "- File : jiang_2020/Table_S5.xlsx\n",
    "- Downloaded from https://www.cell.com/cms/10.1016/j.cell.2020.08.036/attachment/e874e52c-b2b9-4771-8ceb-9415fed1750b/mmc5.xlsx"
   ]
  },
  {
   "cell_type": "markdown",
   "metadata": {},
   "source": [
    "### 8. Protein half-lives"
   ]
  },
  {
   "cell_type": "markdown",
   "metadata": {},
   "source": [
    "- File : protein_properties/zecha_2018/Table_S3.xlsx\n",
    "- Downloaded from https://www.ncbi.nlm.nih.gov/pmc/articles/PMC5930408/bin/supp_RA118.000583_134915_1_supp_65961_p3f7xq.xlsx\n",
    "- Source : Supplemental information of https://www.ncbi.nlm.nih.gov/pmc/articles/PMC5930408/"
   ]
  },
  {
   "cell_type": "markdown",
   "metadata": {},
   "source": [
    "### 9. Protein Complexes"
   ]
  },
  {
   "cell_type": "markdown",
   "metadata": {},
   "source": [
    "- File : protein_properties/CORUM/allComplexes.txt\n",
    "- Downloaded from http://mips.helmholtz-muenchen.de/corum/download/allComplexes.txt.zip\n",
    "- Source Portal : http://mips.helmholtz-muenchen.de/corum/#\n",
    "- Released version : 03.09.2018 Corum 3.0"
   ]
  },
  {
   "cell_type": "markdown",
   "metadata": {},
   "source": [
    "### 10. NCI-CPTAC DREAM Proteogenomics Challenge best performer's prediction score"
   ]
  },
  {
   "cell_type": "markdown",
   "metadata": {},
   "source": [
    "This data was directly obtained from the authors. Can be viewed here - https://heidelberg.shinyapps.io/proteoexplorer/"
   ]
  },
  {
   "cell_type": "markdown",
   "metadata": {},
   "source": [
    "### 11. Transcriptomics data of 675 human cancer cell lines"
   ]
  },
  {
   "cell_type": "markdown",
   "metadata": {},
   "source": [
    "- File : klijn_2015/E-MTAB-2706-query-results.tpms.tsv\n",
    "- Downloaded from https://www.ebi.ac.uk/gxa/experiments-content/E-MTAB-2706/resources/ExperimentDownloadSupplier.RnaSeqBaseline/tpms.tsv\n",
    "- Source : https://www.nature.com/articles/nbt.3080#Sec27"
   ]
  }
 ],
 "metadata": {
  "kernelspec": {
   "display_name": "Python 3",
   "language": "python",
   "name": "python3"
  },
  "language_info": {
   "codemirror_mode": {
    "name": "ipython",
    "version": 3
   },
   "file_extension": ".py",
   "mimetype": "text/x-python",
   "name": "python",
   "nbconvert_exporter": "python",
   "pygments_lexer": "ipython3",
   "version": "3.7.10"
  }
 },
 "nbformat": 4,
 "nbformat_minor": 4
}
