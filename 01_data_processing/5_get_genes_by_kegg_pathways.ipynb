{
 "cells": [
  {
   "cell_type": "markdown",
   "id": "bd213656",
   "metadata": {},
   "source": [
    "### KEGG Pathways "
   ]
  },
  {
   "cell_type": "markdown",
   "id": "0bf6443e",
   "metadata": {},
   "source": [
    "**Output:** KEGG Pathways along with the associated genes"
   ]
  },
  {
   "cell_type": "code",
   "execution_count": 1,
   "id": "1a4aef22",
   "metadata": {},
   "outputs": [],
   "source": [
    "import requests, os\n",
    "import numpy as np\n",
    "import pandas as pd \n",
    "from io import StringIO"
   ]
  },
  {
   "cell_type": "markdown",
   "id": "186c68c0",
   "metadata": {},
   "source": [
    "<div class=\"alert alert-block alert-info\">\n",
    "<b>Note:</b>      \n",
    "KEGG Pathways and their associated genes are obtained using the KEGG REST API.\n",
    "</div>"
   ]
  },
  {
   "cell_type": "code",
   "execution_count": 2,
   "id": "7f81177b",
   "metadata": {},
   "outputs": [],
   "source": [
    "get_local_data_path = lambda folders, fname: os.path.normpath('../local_data/'+'/'+'/'.join(folders) +'/'+ fname)\n",
    "file_kegg_pathways_info =  get_local_data_path(['processed'], 'kegg_pathways.csv')"
   ]
  },
  {
   "cell_type": "code",
   "execution_count": 3,
   "id": "7f649575",
   "metadata": {},
   "outputs": [],
   "source": [
    "# gets pathways belonging to Homo sapiens\n",
    "pathway_response = requests.get(\"http://rest.kegg.jp/list/pathway/hsa\")"
   ]
  },
  {
   "cell_type": "code",
   "execution_count": 4,
   "id": "7020e3a7",
   "metadata": {},
   "outputs": [
    {
     "name": "stdout",
     "output_type": "stream",
     "text": [
      "Dimensions:  (347, 2)\n"
     ]
    },
    {
     "data": {
      "text/html": [
       "<div>\n",
       "<style scoped>\n",
       "    .dataframe tbody tr th:only-of-type {\n",
       "        vertical-align: middle;\n",
       "    }\n",
       "\n",
       "    .dataframe tbody tr th {\n",
       "        vertical-align: top;\n",
       "    }\n",
       "\n",
       "    .dataframe thead th {\n",
       "        text-align: right;\n",
       "    }\n",
       "</style>\n",
       "<table border=\"1\" class=\"dataframe\">\n",
       "  <thead>\n",
       "    <tr style=\"text-align: right;\">\n",
       "      <th></th>\n",
       "      <th>Code</th>\n",
       "      <th>Name</th>\n",
       "    </tr>\n",
       "  </thead>\n",
       "  <tbody>\n",
       "    <tr>\n",
       "      <th>0</th>\n",
       "      <td>path:hsa00010</td>\n",
       "      <td>Glycolysis / Gluconeogenesis - Homo sapiens (h...</td>\n",
       "    </tr>\n",
       "    <tr>\n",
       "      <th>1</th>\n",
       "      <td>path:hsa00020</td>\n",
       "      <td>Citrate cycle (TCA cycle) - Homo sapiens (human)</td>\n",
       "    </tr>\n",
       "  </tbody>\n",
       "</table>\n",
       "</div>"
      ],
      "text/plain": [
       "            Code                                               Name\n",
       "0  path:hsa00010  Glycolysis / Gluconeogenesis - Homo sapiens (h...\n",
       "1  path:hsa00020   Citrate cycle (TCA cycle) - Homo sapiens (human)"
      ]
     },
     "execution_count": 4,
     "metadata": {},
     "output_type": "execute_result"
    }
   ],
   "source": [
    "pathways = pd.read_csv(StringIO(pathway_response.text), sep='\\t', header=None).rename(columns={0: 'Code', 1: 'Name'})\n",
    "print(\"Dimensions: \", pathways.shape)\n",
    "pathways[:2]"
   ]
  },
  {
   "cell_type": "code",
   "execution_count": 5,
   "id": "a482d21b",
   "metadata": {},
   "outputs": [
    {
     "data": {
      "text/html": [
       "<div>\n",
       "<style scoped>\n",
       "    .dataframe tbody tr th:only-of-type {\n",
       "        vertical-align: middle;\n",
       "    }\n",
       "\n",
       "    .dataframe tbody tr th {\n",
       "        vertical-align: top;\n",
       "    }\n",
       "\n",
       "    .dataframe thead th {\n",
       "        text-align: right;\n",
       "    }\n",
       "</style>\n",
       "<table border=\"1\" class=\"dataframe\">\n",
       "  <thead>\n",
       "    <tr style=\"text-align: right;\">\n",
       "      <th></th>\n",
       "      <th>Code</th>\n",
       "      <th>Name</th>\n",
       "    </tr>\n",
       "  </thead>\n",
       "  <tbody>\n",
       "    <tr>\n",
       "      <th>0</th>\n",
       "      <td>hsa00010</td>\n",
       "      <td>Glycolysis / Gluconeogenesis</td>\n",
       "    </tr>\n",
       "    <tr>\n",
       "      <th>1</th>\n",
       "      <td>hsa00020</td>\n",
       "      <td>Citrate cycle (TCA cycle)</td>\n",
       "    </tr>\n",
       "  </tbody>\n",
       "</table>\n",
       "</div>"
      ],
      "text/plain": [
       "       Code                          Name\n",
       "0  hsa00010  Glycolysis / Gluconeogenesis\n",
       "1  hsa00020     Citrate cycle (TCA cycle)"
      ]
     },
     "execution_count": 5,
     "metadata": {},
     "output_type": "execute_result"
    }
   ],
   "source": [
    "# Manipulating the output to suit our needs\n",
    "pathways['Code'] = pathways['Code'].apply(lambda x: x[5:])\n",
    "pathways['Name'] = pathways['Name'].apply(lambda x: x.split('- Homo')[0].strip())\n",
    "pathways[:2]"
   ]
  },
  {
   "cell_type": "code",
   "execution_count": 6,
   "id": "b373b817",
   "metadata": {},
   "outputs": [],
   "source": [
    "query = \"http://rest.kegg.jp/get/\"\n",
    "\n",
    "def get_genes_by_pathway(pathway_code):\n",
    "    response = requests.get(query+pathway_code)    \n",
    "    if('GENE' not in response.text):\n",
    "        return np.nan\n",
    "    genes_by_pathway = []\n",
    "    for line in response.text.split(\"\\n\"):\n",
    "        section = line[:12].strip()  # section names appear in the first 12 characters only \n",
    "        if not section == \"\":        # changing the section if \n",
    "            current_section = section\n",
    "        \n",
    "        if current_section == \"GENE\" and '; ' in line:\n",
    "            gene_identifiers, gene_description = line[12:].split(\"; \")\n",
    "            gene_symbol = gene_identifiers.split()[1]\n",
    "            genes_by_pathway.append(gene_symbol)\n",
    "        elif current_section == 'COMPOUND': # Compound section appears after Gene section \n",
    "            break;                          # => skip the rest of the lines\n",
    "            \n",
    "    return genes_by_pathway"
   ]
  },
  {
   "cell_type": "code",
   "execution_count": 7,
   "id": "ba96070f",
   "metadata": {},
   "outputs": [],
   "source": [
    "pathways['Genes'] = pathways['Code'].apply(get_genes_by_pathway)"
   ]
  },
  {
   "cell_type": "code",
   "execution_count": 8,
   "id": "58d3ebd9",
   "metadata": {},
   "outputs": [
    {
     "data": {
      "text/html": [
       "<div>\n",
       "<style scoped>\n",
       "    .dataframe tbody tr th:only-of-type {\n",
       "        vertical-align: middle;\n",
       "    }\n",
       "\n",
       "    .dataframe tbody tr th {\n",
       "        vertical-align: top;\n",
       "    }\n",
       "\n",
       "    .dataframe thead th {\n",
       "        text-align: right;\n",
       "    }\n",
       "</style>\n",
       "<table border=\"1\" class=\"dataframe\">\n",
       "  <thead>\n",
       "    <tr style=\"text-align: right;\">\n",
       "      <th></th>\n",
       "      <th>Code</th>\n",
       "      <th>Name</th>\n",
       "      <th>Genes</th>\n",
       "    </tr>\n",
       "  </thead>\n",
       "  <tbody>\n",
       "    <tr>\n",
       "      <th>0</th>\n",
       "      <td>hsa00010</td>\n",
       "      <td>Glycolysis / Gluconeogenesis</td>\n",
       "      <td>[HK3, HK1, HK2, HKDC1, GCK, GPI, PFKM, PFKP, P...</td>\n",
       "    </tr>\n",
       "    <tr>\n",
       "      <th>1</th>\n",
       "      <td>hsa00020</td>\n",
       "      <td>Citrate cycle (TCA cycle)</td>\n",
       "      <td>[CS, ACLY, ACO2, ACO1, IDH1, IDH2, IDH3B, IDH3...</td>\n",
       "    </tr>\n",
       "  </tbody>\n",
       "</table>\n",
       "</div>"
      ],
      "text/plain": [
       "       Code                          Name  \\\n",
       "0  hsa00010  Glycolysis / Gluconeogenesis   \n",
       "1  hsa00020     Citrate cycle (TCA cycle)   \n",
       "\n",
       "                                               Genes  \n",
       "0  [HK3, HK1, HK2, HKDC1, GCK, GPI, PFKM, PFKP, P...  \n",
       "1  [CS, ACLY, ACO2, ACO1, IDH1, IDH2, IDH3B, IDH3...  "
      ]
     },
     "execution_count": 8,
     "metadata": {},
     "output_type": "execute_result"
    }
   ],
   "source": [
    "pathways.dropna(subset=['Genes'], inplace=True)\n",
    "pathways.to_csv(file_kegg_pathways_info, index=False)\n",
    "pathways[:2]"
   ]
  }
 ],
 "metadata": {
  "kernelspec": {
   "display_name": "Python 3 (ipykernel)",
   "language": "python",
   "name": "python3"
  },
  "language_info": {
   "codemirror_mode": {
    "name": "ipython",
    "version": 3
   },
   "file_extension": ".py",
   "mimetype": "text/x-python",
   "name": "python",
   "nbconvert_exporter": "python",
   "pygments_lexer": "ipython3",
   "version": "3.8.10"
  }
 },
 "nbformat": 4,
 "nbformat_minor": 5
}
