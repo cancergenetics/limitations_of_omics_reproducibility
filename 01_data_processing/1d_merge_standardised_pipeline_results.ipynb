{
 "cells": [
  {
   "cell_type": "markdown",
   "metadata": {},
   "source": [
    "##  Merge results of mRNA-protein correlation from different studies "
   ]
  },
  {
   "cell_type": "markdown",
   "metadata": {},
   "source": [
    "**Input:** Already processed mRNA-protein correlation from Part 1, 2 and 3.  \n",
    "\n",
    "**Output:** Table S1"
   ]
  },
  {
   "cell_type": "markdown",
   "metadata": {},
   "source": [
    "#### Import packages"
   ]
  },
  {
   "cell_type": "code",
   "execution_count": 1,
   "metadata": {},
   "outputs": [],
   "source": [
    "import os\n",
    "import numpy as np\n",
    "import pandas as pd "
   ]
  },
  {
   "cell_type": "code",
   "execution_count": 2,
   "metadata": {},
   "outputs": [],
   "source": [
    "get_local_data_path = lambda folders, fname: os.path.normpath('../local_data/'+'/'.join(folders) +'/'+ fname)"
   ]
  },
  {
   "cell_type": "code",
   "execution_count": 3,
   "metadata": {},
   "outputs": [],
   "source": [
    "file_older_tumour_studies = get_local_data_path(['processed', 'correlation_mRNA_protein'], 'older_tumour_studies.csv')\n",
    "file_cptac_tumour_studies = get_local_data_path(['processed', 'correlation_mRNA_protein'], 'cptac_tumour_studies.csv')\n",
    "file_non_tumour_studies = get_local_data_path(['processed', 'correlation_mRNA_protein'], 'non_tumour_studies.csv')\n",
    "file_additional_info = get_local_data_path(['processed', 'correlation_mRNA_protein'], 'samples_info.csv')\n",
    "\n",
    "\n",
    "file_merged_correlations = get_local_data_path(['results'], 'TableS1.xlsx')"
   ]
  },
  {
   "cell_type": "markdown",
   "metadata": {},
   "source": [
    "#### Load data"
   ]
  },
  {
   "cell_type": "code",
   "execution_count": 4,
   "metadata": {},
   "outputs": [
    {
     "data": {
      "text/html": [
       "<div>\n",
       "<style scoped>\n",
       "    .dataframe tbody tr th:only-of-type {\n",
       "        vertical-align: middle;\n",
       "    }\n",
       "\n",
       "    .dataframe tbody tr th {\n",
       "        vertical-align: top;\n",
       "    }\n",
       "\n",
       "    .dataframe thead th {\n",
       "        text-align: right;\n",
       "    }\n",
       "</style>\n",
       "<table border=\"1\" class=\"dataframe\">\n",
       "  <thead>\n",
       "    <tr style=\"text-align: right;\">\n",
       "      <th></th>\n",
       "      <th>CRC (2014)</th>\n",
       "      <th>BrCa (2016)</th>\n",
       "      <th>Ovarian</th>\n",
       "      <th>Colon</th>\n",
       "      <th>ccRCC</th>\n",
       "      <th>EC</th>\n",
       "      <th>LUAD</th>\n",
       "      <th>BrCa (2020)</th>\n",
       "      <th>HNSCC</th>\n",
       "      <th>GBM</th>\n",
       "      <th>NCI60</th>\n",
       "      <th>CCLE</th>\n",
       "      <th>GTEx</th>\n",
       "    </tr>\n",
       "    <tr>\n",
       "      <th>Gene symbol</th>\n",
       "      <th></th>\n",
       "      <th></th>\n",
       "      <th></th>\n",
       "      <th></th>\n",
       "      <th></th>\n",
       "      <th></th>\n",
       "      <th></th>\n",
       "      <th></th>\n",
       "      <th></th>\n",
       "      <th></th>\n",
       "      <th></th>\n",
       "      <th></th>\n",
       "      <th></th>\n",
       "    </tr>\n",
       "  </thead>\n",
       "  <tbody>\n",
       "    <tr>\n",
       "      <th>A1BG</th>\n",
       "      <td>0.123133</td>\n",
       "      <td>-0.093805</td>\n",
       "      <td>-0.078889</td>\n",
       "      <td>NaN</td>\n",
       "      <td>0.035573</td>\n",
       "      <td>0.324974</td>\n",
       "      <td>-0.119663</td>\n",
       "      <td>0.077242</td>\n",
       "      <td>0.065872</td>\n",
       "      <td>-0.192863</td>\n",
       "      <td>NaN</td>\n",
       "      <td>NaN</td>\n",
       "      <td>0.154523</td>\n",
       "    </tr>\n",
       "    <tr>\n",
       "      <th>A1CF</th>\n",
       "      <td>NaN</td>\n",
       "      <td>NaN</td>\n",
       "      <td>NaN</td>\n",
       "      <td>0.673548</td>\n",
       "      <td>0.908613</td>\n",
       "      <td>NaN</td>\n",
       "      <td>NaN</td>\n",
       "      <td>NaN</td>\n",
       "      <td>NaN</td>\n",
       "      <td>NaN</td>\n",
       "      <td>NaN</td>\n",
       "      <td>NaN</td>\n",
       "      <td>0.188605</td>\n",
       "    </tr>\n",
       "  </tbody>\n",
       "</table>\n",
       "</div>"
      ],
      "text/plain": [
       "             CRC (2014)  BrCa (2016)   Ovarian     Colon     ccRCC        EC  \\\n",
       "Gene symbol                                                                    \n",
       "A1BG           0.123133    -0.093805 -0.078889       NaN  0.035573  0.324974   \n",
       "A1CF                NaN          NaN       NaN  0.673548  0.908613       NaN   \n",
       "\n",
       "                 LUAD  BrCa (2020)     HNSCC       GBM  NCI60  CCLE      GTEx  \n",
       "Gene symbol                                                                    \n",
       "A1BG        -0.119663     0.077242  0.065872 -0.192863    NaN   NaN  0.154523  \n",
       "A1CF              NaN          NaN       NaN       NaN    NaN   NaN  0.188605  "
      ]
     },
     "execution_count": 4,
     "metadata": {},
     "output_type": "execute_result"
    }
   ],
   "source": [
    "correlations_merged = pd.concat([pd.read_csv(file, index_col=0) for file in [file_older_tumour_studies, \n",
    "                                                                             file_cptac_tumour_studies, \n",
    "                                                                             file_non_tumour_studies]],\n",
    "                                axis=1, sort=True)\n",
    "correlations_merged.index.name = 'Gene symbol'\n",
    "correlations_merged[:2]"
   ]
  },
  {
   "cell_type": "code",
   "execution_count": 5,
   "metadata": {},
   "outputs": [
    {
     "name": "stdout",
     "output_type": "stream",
     "text": [
      "Median mRNA-protein correlation across all studies:  0.43\n"
     ]
    },
    {
     "data": {
      "text/html": [
       "<div>\n",
       "<style scoped>\n",
       "    .dataframe tbody tr th:only-of-type {\n",
       "        vertical-align: middle;\n",
       "    }\n",
       "\n",
       "    .dataframe tbody tr th {\n",
       "        vertical-align: top;\n",
       "    }\n",
       "\n",
       "    .dataframe thead th {\n",
       "        text-align: right;\n",
       "    }\n",
       "</style>\n",
       "<table border=\"1\" class=\"dataframe\">\n",
       "  <thead>\n",
       "    <tr style=\"text-align: right;\">\n",
       "      <th></th>\n",
       "      <th>Data</th>\n",
       "      <th>Computed</th>\n",
       "      <th>Year</th>\n",
       "      <th>Reported</th>\n",
       "    </tr>\n",
       "  </thead>\n",
       "  <tbody>\n",
       "    <tr>\n",
       "      <th>0</th>\n",
       "      <td>CRC (2014)</td>\n",
       "      <td>0.220036</td>\n",
       "      <td>2014</td>\n",
       "      <td>0.23</td>\n",
       "    </tr>\n",
       "    <tr>\n",
       "      <th>1</th>\n",
       "      <td>BrCa (2016)</td>\n",
       "      <td>0.417475</td>\n",
       "      <td>2016</td>\n",
       "      <td>0.39</td>\n",
       "    </tr>\n",
       "  </tbody>\n",
       "</table>\n",
       "</div>"
      ],
      "text/plain": [
       "          Data  Computed  Year  Reported\n",
       "0   CRC (2014)  0.220036  2014      0.23\n",
       "1  BrCa (2016)  0.417475  2016      0.39"
      ]
     },
     "execution_count": 5,
     "metadata": {},
     "output_type": "execute_result"
    }
   ],
   "source": [
    "correlations_all = pd.DataFrame(correlations_merged.median(axis=0)).reset_index()\n",
    "# correlations_all[\"Data\"] = correlations_all.index.str.split().str[0]\n",
    "correlations_all['Year'] = ['2014', '2016', '2016', '2019', '2019', '2020', '2020', '2020', '2021', '2021', '2019', \n",
    "                            '2020', '2020']\n",
    "correlations_all.columns = ['Data', 'Computed',  'Year']\n",
    "correlations_all['Reported'] = [0.23, 0.39, 0.45, 0.48, 0.43, 0.48, 0.53, 0.41, 0.52, np.nan, np.nan, 0.48, 0.46]\n",
    "print(\"Median mRNA-protein correlation across all studies: \", round(correlations_all['Computed'].median(), 2))\n",
    "correlations_all[:2]"
   ]
  },
  {
   "cell_type": "code",
   "execution_count": 6,
   "metadata": {},
   "outputs": [
    {
     "data": {
      "image/png": "[encoded data removed]",
      "text/plain": [
       "<Figure size 648x648 with 1 Axes>"
      ]
     },
     "metadata": {
      "needs_background": "light"
     },
     "output_type": "display_data"
    }
   ],
   "source": [
    "import seaborn as sns \n",
    "import matplotlib.pyplot as plt\n",
    "\n",
    "correlations_all = pd.melt(correlations_all, id_vars=['Data', 'Year'], value_vars=['Computed', 'Reported'])\n",
    "correlations_all.columns=['Data', 'Year', 'CorrelationType', 'Value']\n",
    "with plt.rc_context({'axes.linewidth': 0.8, 'axes.spines.left': True}):\n",
    "    figure, ax = plt.subplots(1, 1, figsize=(9, 9))\n",
    "    ax = sns.barplot(y='Data', x='Value', data=correlations_all, hue='CorrelationType', palette=['#999999', '#1864aa'])\n",
    "    ax.set_xlabel('mRNA-Protein correlation', fontsize=12)\n",
    "    ax.tick_params(axis='x', labelsize=12)\n",
    "    ax.tick_params(axis='y', labelsize=12)\n",
    "    ax.set_ylabel(None)\n",
    "    plt.show()"
   ]
  },
  {
   "cell_type": "markdown",
   "metadata": {},
   "source": [
    "<div class=\"alert alert-block alert-warning\">\n",
    "<b>Note:</b> \n",
    "<li>There is a huge difference in the computed and reported mRNA-protein correlation of CRC (2019). </li>\n",
    "<li>EC computed and reported are almost the same</li>\n",
    "<li>GBM and NCI60 has no reported mRNA-protein correlation</li>    \n",
    "</div>"
   ]
  },
  {
   "cell_type": "code",
   "execution_count": 7,
   "metadata": {},
   "outputs": [
    {
     "data": {
      "text/html": [
       "<div>\n",
       "<style scoped>\n",
       "    .dataframe tbody tr th:only-of-type {\n",
       "        vertical-align: middle;\n",
       "    }\n",
       "\n",
       "    .dataframe tbody tr th {\n",
       "        vertical-align: top;\n",
       "    }\n",
       "\n",
       "    .dataframe thead th {\n",
       "        text-align: right;\n",
       "    }\n",
       "</style>\n",
       "<table border=\"1\" class=\"dataframe\">\n",
       "  <thead>\n",
       "    <tr style=\"text-align: right;\">\n",
       "      <th></th>\n",
       "      <th>Data</th>\n",
       "      <th># Samples in Trancriptomic Data</th>\n",
       "      <th># Samples in Proteomic Data</th>\n",
       "      <th># Common Samples</th>\n",
       "      <th># Common Proteins</th>\n",
       "    </tr>\n",
       "  </thead>\n",
       "  <tbody>\n",
       "    <tr>\n",
       "      <th>0</th>\n",
       "      <td>CRC (2014)</td>\n",
       "      <td>244</td>\n",
       "      <td>90</td>\n",
       "      <td>77</td>\n",
       "      <td>3238</td>\n",
       "    </tr>\n",
       "    <tr>\n",
       "      <th>1</th>\n",
       "      <td>BrCa (2016)</td>\n",
       "      <td>817</td>\n",
       "      <td>77</td>\n",
       "      <td>59</td>\n",
       "      <td>7283</td>\n",
       "    </tr>\n",
       "    <tr>\n",
       "      <th>2</th>\n",
       "      <td>Ovarian</td>\n",
       "      <td>579</td>\n",
       "      <td>174</td>\n",
       "      <td>174</td>\n",
       "      <td>5841</td>\n",
       "    </tr>\n",
       "    <tr>\n",
       "      <th>3</th>\n",
       "      <td>Colon</td>\n",
       "      <td>106</td>\n",
       "      <td>96</td>\n",
       "      <td>95</td>\n",
       "      <td>4970</td>\n",
       "    </tr>\n",
       "    <tr>\n",
       "      <th>4</th>\n",
       "      <td>ccRCC</td>\n",
       "      <td>103</td>\n",
       "      <td>103</td>\n",
       "      <td>103</td>\n",
       "      <td>7609</td>\n",
       "    </tr>\n",
       "    <tr>\n",
       "      <th>5</th>\n",
       "      <td>EC</td>\n",
       "      <td>95</td>\n",
       "      <td>95</td>\n",
       "      <td>95</td>\n",
       "      <td>8998</td>\n",
       "    </tr>\n",
       "    <tr>\n",
       "      <th>6</th>\n",
       "      <td>LUAD</td>\n",
       "      <td>110</td>\n",
       "      <td>110</td>\n",
       "      <td>110</td>\n",
       "      <td>8507</td>\n",
       "    </tr>\n",
       "    <tr>\n",
       "      <th>7</th>\n",
       "      <td>BrCa (2020)</td>\n",
       "      <td>122</td>\n",
       "      <td>122</td>\n",
       "      <td>122</td>\n",
       "      <td>8243</td>\n",
       "    </tr>\n",
       "    <tr>\n",
       "      <th>8</th>\n",
       "      <td>HNSCC</td>\n",
       "      <td>108</td>\n",
       "      <td>110</td>\n",
       "      <td>108</td>\n",
       "      <td>8583</td>\n",
       "    </tr>\n",
       "    <tr>\n",
       "      <th>9</th>\n",
       "      <td>GBM</td>\n",
       "      <td>99</td>\n",
       "      <td>99</td>\n",
       "      <td>99</td>\n",
       "      <td>9348</td>\n",
       "    </tr>\n",
       "    <tr>\n",
       "      <th>10</th>\n",
       "      <td>CCLE</td>\n",
       "      <td>1376</td>\n",
       "      <td>375</td>\n",
       "      <td>369</td>\n",
       "      <td>6987</td>\n",
       "    </tr>\n",
       "    <tr>\n",
       "      <th>11</th>\n",
       "      <td>GTEx</td>\n",
       "      <td>32</td>\n",
       "      <td>32</td>\n",
       "      <td>32</td>\n",
       "      <td>7471</td>\n",
       "    </tr>\n",
       "    <tr>\n",
       "      <th>12</th>\n",
       "      <td>NCI60</td>\n",
       "      <td>60</td>\n",
       "      <td>60</td>\n",
       "      <td>59</td>\n",
       "      <td>3022</td>\n",
       "    </tr>\n",
       "  </tbody>\n",
       "</table>\n",
       "</div>"
      ],
      "text/plain": [
       "           Data  # Samples in Trancriptomic Data  # Samples in Proteomic Data  \\\n",
       "0    CRC (2014)                              244                           90   \n",
       "1   BrCa (2016)                              817                           77   \n",
       "2       Ovarian                              579                          174   \n",
       "3         Colon                              106                           96   \n",
       "4         ccRCC                              103                          103   \n",
       "5            EC                               95                           95   \n",
       "6          LUAD                              110                          110   \n",
       "7   BrCa (2020)                              122                          122   \n",
       "8         HNSCC                              108                          110   \n",
       "9           GBM                               99                           99   \n",
       "10         CCLE                             1376                          375   \n",
       "11         GTEx                               32                           32   \n",
       "12        NCI60                               60                           60   \n",
       "\n",
       "    # Common Samples  # Common Proteins  \n",
       "0                 77               3238  \n",
       "1                 59               7283  \n",
       "2                174               5841  \n",
       "3                 95               4970  \n",
       "4                103               7609  \n",
       "5                 95               8998  \n",
       "6                110               8507  \n",
       "7                122               8243  \n",
       "8                108               8583  \n",
       "9                 99               9348  \n",
       "10               369               6987  \n",
       "11                32               7471  \n",
       "12                59               3022  "
      ]
     },
     "execution_count": 7,
     "metadata": {},
     "output_type": "execute_result"
    }
   ],
   "source": [
    "additional_info = pd.read_csv(file_additional_info)\n",
    "additional_info"
   ]
  },
  {
   "cell_type": "code",
   "execution_count": 8,
   "metadata": {},
   "outputs": [],
   "source": [
    "writer = pd.ExcelWriter(file_merged_correlations)\n",
    "correlations_merged.to_excel(writer,'A. mRNA-protein correlation')\n",
    "additional_info.to_excel(writer, 'B. Additional details', index=False)\n",
    "writer.save()"
   ]
  }
 ],
 "metadata": {
  "kernelspec": {
   "display_name": "Python 3 (ipykernel)",
   "language": "python",
   "name": "python3"
  },
  "language_info": {
   "codemirror_mode": {
    "name": "ipython",
    "version": 3
   },
   "file_extension": ".py",
   "mimetype": "text/x-python",
   "name": "python",
   "nbconvert_exporter": "python",
   "pygments_lexer": "ipython3",
   "version": "3.8.10"
  }
 },
 "nbformat": 4,
 "nbformat_minor": 4
}
